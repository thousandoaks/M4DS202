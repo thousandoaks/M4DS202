{
  "nbformat": 4,
  "nbformat_minor": 0,
  "metadata": {
    "colab": {
      "provenance": []
    },
    "kernelspec": {
      "name": "python3",
      "display_name": "Python 3"
    },
    "language_info": {
      "name": "python"
    }
  },
  "cells": [
    {
      "cell_type": "markdown",
      "source": [
        "# Generalized Linear Models (Lab 2)"
      ],
      "metadata": {
        "id": "9Koy8IdCva-p"
      }
    },
    {
      "cell_type": "markdown",
      "source": [
        "### Intro and objectives\n",
        "\n",
        "\n",
        "### In this lab you will learn:\n",
        "1. examples of generalized linear models\n",
        "2. how to fit these models in Python\n",
        "\n",
        "\n",
        "## What I hope you'll get out of this lab\n",
        "* The feeling that you'll \"know where to start\" when you need to fit generalized linear models\n",
        "* Worked Examples\n",
        "* How to interpret the results obtained"
      ],
      "metadata": {
        "id": "DiOUGkzJvkIq"
      }
    },
    {
      "cell_type": "code",
      "execution_count": 62,
      "metadata": {
        "colab": {
          "base_uri": "https://localhost:8080/"
        },
        "id": "31p3EWLtvZq_",
        "outputId": "ed143a05-57c6-4c51-8965-7156932b9153"
      },
      "outputs": [
        {
          "output_type": "stream",
          "name": "stdout",
          "text": [
            "Looking in indexes: https://pypi.org/simple, https://us-python.pkg.dev/colab-wheels/public/simple/\n",
            "Requirement already satisfied: wooldridge in /usr/local/lib/python3.8/dist-packages (0.4.4)\n",
            "Requirement already satisfied: pandas in /usr/local/lib/python3.8/dist-packages (from wooldridge) (1.3.5)\n",
            "Requirement already satisfied: python-dateutil>=2.7.3 in /usr/local/lib/python3.8/dist-packages (from pandas->wooldridge) (2.8.2)\n",
            "Requirement already satisfied: numpy>=1.17.3 in /usr/local/lib/python3.8/dist-packages (from pandas->wooldridge) (1.21.6)\n",
            "Requirement already satisfied: pytz>=2017.3 in /usr/local/lib/python3.8/dist-packages (from pandas->wooldridge) (2022.7)\n",
            "Requirement already satisfied: six>=1.5 in /usr/local/lib/python3.8/dist-packages (from python-dateutil>=2.7.3->pandas->wooldridge) (1.15.0)\n",
            "Looking in indexes: https://pypi.org/simple, https://us-python.pkg.dev/colab-wheels/public/simple/\n",
            "Requirement already satisfied: linearmodels in /usr/local/lib/python3.8/dist-packages (4.27)\n",
            "Requirement already satisfied: Cython>=0.29.21 in /usr/local/lib/python3.8/dist-packages (from linearmodels) (0.29.32)\n",
            "Requirement already satisfied: setuptools-scm<7.0.0,>=6.4.2 in /usr/local/lib/python3.8/dist-packages (from linearmodels) (6.4.2)\n",
            "Requirement already satisfied: property-cached>=1.6.3 in /usr/local/lib/python3.8/dist-packages (from linearmodels) (1.6.4)\n",
            "Requirement already satisfied: pyhdfe>=0.1 in /usr/local/lib/python3.8/dist-packages (from linearmodels) (0.1.2)\n",
            "Requirement already satisfied: scipy>=1.2 in /usr/local/lib/python3.8/dist-packages (from linearmodels) (1.7.3)\n",
            "Requirement already satisfied: numpy>=1.16 in /usr/local/lib/python3.8/dist-packages (from linearmodels) (1.21.6)\n",
            "Requirement already satisfied: pandas>=0.24 in /usr/local/lib/python3.8/dist-packages (from linearmodels) (1.3.5)\n",
            "Requirement already satisfied: statsmodels>=0.11 in /usr/local/lib/python3.8/dist-packages (from linearmodels) (0.12.2)\n",
            "Requirement already satisfied: mypy-extensions>=0.4 in /usr/local/lib/python3.8/dist-packages (from linearmodels) (0.4.3)\n",
            "Requirement already satisfied: formulaic~=0.3.2 in /usr/local/lib/python3.8/dist-packages (from linearmodels) (0.3.4)\n",
            "Requirement already satisfied: astor>=0.8 in /usr/local/lib/python3.8/dist-packages (from formulaic~=0.3.2->linearmodels) (0.8.1)\n",
            "Requirement already satisfied: wrapt>=1.0 in /usr/local/lib/python3.8/dist-packages (from formulaic~=0.3.2->linearmodels) (1.14.1)\n",
            "Requirement already satisfied: interface-meta<2.0.0,>=1.2.0 in /usr/local/lib/python3.8/dist-packages (from formulaic~=0.3.2->linearmodels) (1.3.0)\n",
            "Requirement already satisfied: pytz>=2017.3 in /usr/local/lib/python3.8/dist-packages (from pandas>=0.24->linearmodels) (2022.7)\n",
            "Requirement already satisfied: python-dateutil>=2.7.3 in /usr/local/lib/python3.8/dist-packages (from pandas>=0.24->linearmodels) (2.8.2)\n",
            "Requirement already satisfied: packaging>=20.0 in /usr/local/lib/python3.8/dist-packages (from setuptools-scm<7.0.0,>=6.4.2->linearmodels) (21.3)\n",
            "Requirement already satisfied: setuptools in /usr/local/lib/python3.8/dist-packages (from setuptools-scm<7.0.0,>=6.4.2->linearmodels) (57.4.0)\n",
            "Requirement already satisfied: tomli>=1.0.0 in /usr/local/lib/python3.8/dist-packages (from setuptools-scm<7.0.0,>=6.4.2->linearmodels) (2.0.1)\n",
            "Requirement already satisfied: patsy>=0.5 in /usr/local/lib/python3.8/dist-packages (from statsmodels>=0.11->linearmodels) (0.5.3)\n",
            "Requirement already satisfied: pyparsing!=3.0.5,>=2.0.2 in /usr/local/lib/python3.8/dist-packages (from packaging>=20.0->setuptools-scm<7.0.0,>=6.4.2->linearmodels) (3.0.9)\n",
            "Requirement already satisfied: six in /usr/local/lib/python3.8/dist-packages (from patsy>=0.5->statsmodels>=0.11->linearmodels) (1.15.0)\n"
          ]
        }
      ],
      "source": [
        "!pip install wooldridge\n",
        "!pip install linearmodels\n",
        "import wooldridge as woo\n",
        "import statsmodels.formula.api as smf\n",
        "import statsmodels.api as sm\n",
        "import matplotlib.pyplot as plt\n",
        "import seaborn as sns\n",
        "import pandas as pd\n",
        "import linearmodels as plm\n",
        "import numpy as np\n",
        "from scipy import stats"
      ]
    },
    {
      "cell_type": "markdown",
      "source": [
        "# Example. Mental Health, Stress and Socio Economic Status (SES)"
      ],
      "metadata": {
        "id": "aEHpzweDwqTa"
      }
    },
    {
      "cell_type": "markdown",
      "source": [
        "#### Agresti and Finlay(1997) report data from a Florida study investigating the relationship between mental health and several explanatory variables using a random sample of 40 subjects. The outcome of interest is an index of mental impairment that incorporates measures of anxiety and depression. \n",
        "\n",
        "#### We will consider two predictors: a life-events score that combines the number and severity of various stressful life events, and an index of socio-economic status (SES)."
      ],
      "metadata": {
        "id": "qHmLOQ7MxEbJ"
      }
    },
    {
      "cell_type": "code",
      "source": [
        "MentalHealthDataFrame=pd.read_stata('https://github.com/thousandoaks/M4DS202/blob/main/data/mentalhealth.dta?raw=true')  \n"
      ],
      "metadata": {
        "id": "2ma8vEoPxGI_"
      },
      "execution_count": 63,
      "outputs": []
    },
    {
      "cell_type": "code",
      "source": [],
      "metadata": {
        "id": "YhJtGbaIun92"
      },
      "execution_count": 63,
      "outputs": []
    },
    {
      "cell_type": "code",
      "source": [
        "MentalHealthDataFrame.head(10)"
      ],
      "metadata": {
        "colab": {
          "base_uri": "https://localhost:8080/",
          "height": 363
        },
        "id": "uNliv4ZZ0OeX",
        "outputId": "885bc64d-4371-473b-b8f5-ebe12375704e"
      },
      "execution_count": 64,
      "outputs": [
        {
          "output_type": "execute_result",
          "data": {
            "text/plain": [
              "   mentalImpair  lifeEvents   ses\n",
              "0          17.0        46.0  84.0\n",
              "1          19.0        39.0  97.0\n",
              "2          20.0        27.0  24.0\n",
              "3          20.0         3.0  85.0\n",
              "4          20.0        10.0  15.0\n",
              "5          21.0        44.0  55.0\n",
              "6          21.0        37.0  78.0\n",
              "7          22.0        35.0  91.0\n",
              "8          22.0        78.0  60.0\n",
              "9          23.0        32.0  74.0"
            ],
            "text/html": [
              "\n",
              "  <div id=\"df-c82fd75a-234c-4e7c-aaee-7d073df7171e\">\n",
              "    <div class=\"colab-df-container\">\n",
              "      <div>\n",
              "<style scoped>\n",
              "    .dataframe tbody tr th:only-of-type {\n",
              "        vertical-align: middle;\n",
              "    }\n",
              "\n",
              "    .dataframe tbody tr th {\n",
              "        vertical-align: top;\n",
              "    }\n",
              "\n",
              "    .dataframe thead th {\n",
              "        text-align: right;\n",
              "    }\n",
              "</style>\n",
              "<table border=\"1\" class=\"dataframe\">\n",
              "  <thead>\n",
              "    <tr style=\"text-align: right;\">\n",
              "      <th></th>\n",
              "      <th>mentalImpair</th>\n",
              "      <th>lifeEvents</th>\n",
              "      <th>ses</th>\n",
              "    </tr>\n",
              "  </thead>\n",
              "  <tbody>\n",
              "    <tr>\n",
              "      <th>0</th>\n",
              "      <td>17.0</td>\n",
              "      <td>46.0</td>\n",
              "      <td>84.0</td>\n",
              "    </tr>\n",
              "    <tr>\n",
              "      <th>1</th>\n",
              "      <td>19.0</td>\n",
              "      <td>39.0</td>\n",
              "      <td>97.0</td>\n",
              "    </tr>\n",
              "    <tr>\n",
              "      <th>2</th>\n",
              "      <td>20.0</td>\n",
              "      <td>27.0</td>\n",
              "      <td>24.0</td>\n",
              "    </tr>\n",
              "    <tr>\n",
              "      <th>3</th>\n",
              "      <td>20.0</td>\n",
              "      <td>3.0</td>\n",
              "      <td>85.0</td>\n",
              "    </tr>\n",
              "    <tr>\n",
              "      <th>4</th>\n",
              "      <td>20.0</td>\n",
              "      <td>10.0</td>\n",
              "      <td>15.0</td>\n",
              "    </tr>\n",
              "    <tr>\n",
              "      <th>5</th>\n",
              "      <td>21.0</td>\n",
              "      <td>44.0</td>\n",
              "      <td>55.0</td>\n",
              "    </tr>\n",
              "    <tr>\n",
              "      <th>6</th>\n",
              "      <td>21.0</td>\n",
              "      <td>37.0</td>\n",
              "      <td>78.0</td>\n",
              "    </tr>\n",
              "    <tr>\n",
              "      <th>7</th>\n",
              "      <td>22.0</td>\n",
              "      <td>35.0</td>\n",
              "      <td>91.0</td>\n",
              "    </tr>\n",
              "    <tr>\n",
              "      <th>8</th>\n",
              "      <td>22.0</td>\n",
              "      <td>78.0</td>\n",
              "      <td>60.0</td>\n",
              "    </tr>\n",
              "    <tr>\n",
              "      <th>9</th>\n",
              "      <td>23.0</td>\n",
              "      <td>32.0</td>\n",
              "      <td>74.0</td>\n",
              "    </tr>\n",
              "  </tbody>\n",
              "</table>\n",
              "</div>\n",
              "      <button class=\"colab-df-convert\" onclick=\"convertToInteractive('df-c82fd75a-234c-4e7c-aaee-7d073df7171e')\"\n",
              "              title=\"Convert this dataframe to an interactive table.\"\n",
              "              style=\"display:none;\">\n",
              "        \n",
              "  <svg xmlns=\"http://www.w3.org/2000/svg\" height=\"24px\"viewBox=\"0 0 24 24\"\n",
              "       width=\"24px\">\n",
              "    <path d=\"M0 0h24v24H0V0z\" fill=\"none\"/>\n",
              "    <path d=\"M18.56 5.44l.94 2.06.94-2.06 2.06-.94-2.06-.94-.94-2.06-.94 2.06-2.06.94zm-11 1L8.5 8.5l.94-2.06 2.06-.94-2.06-.94L8.5 2.5l-.94 2.06-2.06.94zm10 10l.94 2.06.94-2.06 2.06-.94-2.06-.94-.94-2.06-.94 2.06-2.06.94z\"/><path d=\"M17.41 7.96l-1.37-1.37c-.4-.4-.92-.59-1.43-.59-.52 0-1.04.2-1.43.59L10.3 9.45l-7.72 7.72c-.78.78-.78 2.05 0 2.83L4 21.41c.39.39.9.59 1.41.59.51 0 1.02-.2 1.41-.59l7.78-7.78 2.81-2.81c.8-.78.8-2.07 0-2.86zM5.41 20L4 18.59l7.72-7.72 1.47 1.35L5.41 20z\"/>\n",
              "  </svg>\n",
              "      </button>\n",
              "      \n",
              "  <style>\n",
              "    .colab-df-container {\n",
              "      display:flex;\n",
              "      flex-wrap:wrap;\n",
              "      gap: 12px;\n",
              "    }\n",
              "\n",
              "    .colab-df-convert {\n",
              "      background-color: #E8F0FE;\n",
              "      border: none;\n",
              "      border-radius: 50%;\n",
              "      cursor: pointer;\n",
              "      display: none;\n",
              "      fill: #1967D2;\n",
              "      height: 32px;\n",
              "      padding: 0 0 0 0;\n",
              "      width: 32px;\n",
              "    }\n",
              "\n",
              "    .colab-df-convert:hover {\n",
              "      background-color: #E2EBFA;\n",
              "      box-shadow: 0px 1px 2px rgba(60, 64, 67, 0.3), 0px 1px 3px 1px rgba(60, 64, 67, 0.15);\n",
              "      fill: #174EA6;\n",
              "    }\n",
              "\n",
              "    [theme=dark] .colab-df-convert {\n",
              "      background-color: #3B4455;\n",
              "      fill: #D2E3FC;\n",
              "    }\n",
              "\n",
              "    [theme=dark] .colab-df-convert:hover {\n",
              "      background-color: #434B5C;\n",
              "      box-shadow: 0px 1px 3px 1px rgba(0, 0, 0, 0.15);\n",
              "      filter: drop-shadow(0px 1px 2px rgba(0, 0, 0, 0.3));\n",
              "      fill: #FFFFFF;\n",
              "    }\n",
              "  </style>\n",
              "\n",
              "      <script>\n",
              "        const buttonEl =\n",
              "          document.querySelector('#df-c82fd75a-234c-4e7c-aaee-7d073df7171e button.colab-df-convert');\n",
              "        buttonEl.style.display =\n",
              "          google.colab.kernel.accessAllowed ? 'block' : 'none';\n",
              "\n",
              "        async function convertToInteractive(key) {\n",
              "          const element = document.querySelector('#df-c82fd75a-234c-4e7c-aaee-7d073df7171e');\n",
              "          const dataTable =\n",
              "            await google.colab.kernel.invokeFunction('convertToInteractive',\n",
              "                                                     [key], {});\n",
              "          if (!dataTable) return;\n",
              "\n",
              "          const docLinkHtml = 'Like what you see? Visit the ' +\n",
              "            '<a target=\"_blank\" href=https://colab.research.google.com/notebooks/data_table.ipynb>data table notebook</a>'\n",
              "            + ' to learn more about interactive tables.';\n",
              "          element.innerHTML = '';\n",
              "          dataTable['output_type'] = 'display_data';\n",
              "          await google.colab.output.renderOutput(dataTable, element);\n",
              "          const docLink = document.createElement('div');\n",
              "          docLink.innerHTML = docLinkHtml;\n",
              "          element.appendChild(docLink);\n",
              "        }\n",
              "      </script>\n",
              "    </div>\n",
              "  </div>\n",
              "  "
            ]
          },
          "metadata": {},
          "execution_count": 64
        }
      ]
    },
    {
      "cell_type": "code",
      "source": [
        "MentalHealthDataFrame.info()"
      ],
      "metadata": {
        "id": "eviOFOKjxszM",
        "colab": {
          "base_uri": "https://localhost:8080/"
        },
        "outputId": "77011a2b-47cf-4326-e82d-274a4d4971d9"
      },
      "execution_count": 65,
      "outputs": [
        {
          "output_type": "stream",
          "name": "stdout",
          "text": [
            "<class 'pandas.core.frame.DataFrame'>\n",
            "Int64Index: 40 entries, 0 to 39\n",
            "Data columns (total 3 columns):\n",
            " #   Column        Non-Null Count  Dtype  \n",
            "---  ------        --------------  -----  \n",
            " 0   mentalImpair  40 non-null     float32\n",
            " 1   lifeEvents    40 non-null     float32\n",
            " 2   ses           40 non-null     float32\n",
            "dtypes: float32(3)\n",
            "memory usage: 800.0 bytes\n"
          ]
        }
      ]
    },
    {
      "cell_type": "code",
      "source": [
        "MentalHealthDataFrame.describe()"
      ],
      "metadata": {
        "colab": {
          "base_uri": "https://localhost:8080/",
          "height": 300
        },
        "id": "jXdnnWzdTsh1",
        "outputId": "a9ebe0de-4223-475e-d237-1df2427e0f79"
      },
      "execution_count": 66,
      "outputs": [
        {
          "output_type": "execute_result",
          "data": {
            "text/plain": [
              "       mentalImpair  lifeEvents        ses\n",
              "count     40.000000   40.000000  40.000000\n",
              "mean      27.299999   44.424999  56.599998\n",
              "std        5.459407   22.622757  25.278753\n",
              "min       17.000000    3.000000   3.000000\n",
              "25%       23.750000   32.750000  39.750000\n",
              "50%       27.000000   43.000000  56.000000\n",
              "75%       31.000000   55.500000  75.750000\n",
              "max       41.000000   97.000000  97.000000"
            ],
            "text/html": [
              "\n",
              "  <div id=\"df-c9467560-a26c-498c-9b02-752eaff3204a\">\n",
              "    <div class=\"colab-df-container\">\n",
              "      <div>\n",
              "<style scoped>\n",
              "    .dataframe tbody tr th:only-of-type {\n",
              "        vertical-align: middle;\n",
              "    }\n",
              "\n",
              "    .dataframe tbody tr th {\n",
              "        vertical-align: top;\n",
              "    }\n",
              "\n",
              "    .dataframe thead th {\n",
              "        text-align: right;\n",
              "    }\n",
              "</style>\n",
              "<table border=\"1\" class=\"dataframe\">\n",
              "  <thead>\n",
              "    <tr style=\"text-align: right;\">\n",
              "      <th></th>\n",
              "      <th>mentalImpair</th>\n",
              "      <th>lifeEvents</th>\n",
              "      <th>ses</th>\n",
              "    </tr>\n",
              "  </thead>\n",
              "  <tbody>\n",
              "    <tr>\n",
              "      <th>count</th>\n",
              "      <td>40.000000</td>\n",
              "      <td>40.000000</td>\n",
              "      <td>40.000000</td>\n",
              "    </tr>\n",
              "    <tr>\n",
              "      <th>mean</th>\n",
              "      <td>27.299999</td>\n",
              "      <td>44.424999</td>\n",
              "      <td>56.599998</td>\n",
              "    </tr>\n",
              "    <tr>\n",
              "      <th>std</th>\n",
              "      <td>5.459407</td>\n",
              "      <td>22.622757</td>\n",
              "      <td>25.278753</td>\n",
              "    </tr>\n",
              "    <tr>\n",
              "      <th>min</th>\n",
              "      <td>17.000000</td>\n",
              "      <td>3.000000</td>\n",
              "      <td>3.000000</td>\n",
              "    </tr>\n",
              "    <tr>\n",
              "      <th>25%</th>\n",
              "      <td>23.750000</td>\n",
              "      <td>32.750000</td>\n",
              "      <td>39.750000</td>\n",
              "    </tr>\n",
              "    <tr>\n",
              "      <th>50%</th>\n",
              "      <td>27.000000</td>\n",
              "      <td>43.000000</td>\n",
              "      <td>56.000000</td>\n",
              "    </tr>\n",
              "    <tr>\n",
              "      <th>75%</th>\n",
              "      <td>31.000000</td>\n",
              "      <td>55.500000</td>\n",
              "      <td>75.750000</td>\n",
              "    </tr>\n",
              "    <tr>\n",
              "      <th>max</th>\n",
              "      <td>41.000000</td>\n",
              "      <td>97.000000</td>\n",
              "      <td>97.000000</td>\n",
              "    </tr>\n",
              "  </tbody>\n",
              "</table>\n",
              "</div>\n",
              "      <button class=\"colab-df-convert\" onclick=\"convertToInteractive('df-c9467560-a26c-498c-9b02-752eaff3204a')\"\n",
              "              title=\"Convert this dataframe to an interactive table.\"\n",
              "              style=\"display:none;\">\n",
              "        \n",
              "  <svg xmlns=\"http://www.w3.org/2000/svg\" height=\"24px\"viewBox=\"0 0 24 24\"\n",
              "       width=\"24px\">\n",
              "    <path d=\"M0 0h24v24H0V0z\" fill=\"none\"/>\n",
              "    <path d=\"M18.56 5.44l.94 2.06.94-2.06 2.06-.94-2.06-.94-.94-2.06-.94 2.06-2.06.94zm-11 1L8.5 8.5l.94-2.06 2.06-.94-2.06-.94L8.5 2.5l-.94 2.06-2.06.94zm10 10l.94 2.06.94-2.06 2.06-.94-2.06-.94-.94-2.06-.94 2.06-2.06.94z\"/><path d=\"M17.41 7.96l-1.37-1.37c-.4-.4-.92-.59-1.43-.59-.52 0-1.04.2-1.43.59L10.3 9.45l-7.72 7.72c-.78.78-.78 2.05 0 2.83L4 21.41c.39.39.9.59 1.41.59.51 0 1.02-.2 1.41-.59l7.78-7.78 2.81-2.81c.8-.78.8-2.07 0-2.86zM5.41 20L4 18.59l7.72-7.72 1.47 1.35L5.41 20z\"/>\n",
              "  </svg>\n",
              "      </button>\n",
              "      \n",
              "  <style>\n",
              "    .colab-df-container {\n",
              "      display:flex;\n",
              "      flex-wrap:wrap;\n",
              "      gap: 12px;\n",
              "    }\n",
              "\n",
              "    .colab-df-convert {\n",
              "      background-color: #E8F0FE;\n",
              "      border: none;\n",
              "      border-radius: 50%;\n",
              "      cursor: pointer;\n",
              "      display: none;\n",
              "      fill: #1967D2;\n",
              "      height: 32px;\n",
              "      padding: 0 0 0 0;\n",
              "      width: 32px;\n",
              "    }\n",
              "\n",
              "    .colab-df-convert:hover {\n",
              "      background-color: #E2EBFA;\n",
              "      box-shadow: 0px 1px 2px rgba(60, 64, 67, 0.3), 0px 1px 3px 1px rgba(60, 64, 67, 0.15);\n",
              "      fill: #174EA6;\n",
              "    }\n",
              "\n",
              "    [theme=dark] .colab-df-convert {\n",
              "      background-color: #3B4455;\n",
              "      fill: #D2E3FC;\n",
              "    }\n",
              "\n",
              "    [theme=dark] .colab-df-convert:hover {\n",
              "      background-color: #434B5C;\n",
              "      box-shadow: 0px 1px 3px 1px rgba(0, 0, 0, 0.15);\n",
              "      filter: drop-shadow(0px 1px 2px rgba(0, 0, 0, 0.3));\n",
              "      fill: #FFFFFF;\n",
              "    }\n",
              "  </style>\n",
              "\n",
              "      <script>\n",
              "        const buttonEl =\n",
              "          document.querySelector('#df-c9467560-a26c-498c-9b02-752eaff3204a button.colab-df-convert');\n",
              "        buttonEl.style.display =\n",
              "          google.colab.kernel.accessAllowed ? 'block' : 'none';\n",
              "\n",
              "        async function convertToInteractive(key) {\n",
              "          const element = document.querySelector('#df-c9467560-a26c-498c-9b02-752eaff3204a');\n",
              "          const dataTable =\n",
              "            await google.colab.kernel.invokeFunction('convertToInteractive',\n",
              "                                                     [key], {});\n",
              "          if (!dataTable) return;\n",
              "\n",
              "          const docLinkHtml = 'Like what you see? Visit the ' +\n",
              "            '<a target=\"_blank\" href=https://colab.research.google.com/notebooks/data_table.ipynb>data table notebook</a>'\n",
              "            + ' to learn more about interactive tables.';\n",
              "          element.innerHTML = '';\n",
              "          dataTable['output_type'] = 'display_data';\n",
              "          await google.colab.output.renderOutput(dataTable, element);\n",
              "          const docLink = document.createElement('div');\n",
              "          docLink.innerHTML = docLinkHtml;\n",
              "          element.appendChild(docLink);\n",
              "        }\n",
              "      </script>\n",
              "    </div>\n",
              "  </div>\n",
              "  "
            ]
          },
          "metadata": {},
          "execution_count": 66
        }
      ]
    },
    {
      "cell_type": "markdown",
      "source": [
        "### We are interested in determining the impact of socio economic status on mental health. Does money buy happinness ?\n"
      ],
      "metadata": {
        "id": "zQUJRYvgm4D-"
      }
    },
    {
      "cell_type": "code",
      "source": [
        "sns.pairplot(data=MentalHealthDataFrame,diag_kind='kde')"
      ],
      "metadata": {
        "colab": {
          "base_uri": "https://localhost:8080/",
          "height": 568
        },
        "id": "Ut9ABoZJtV3M",
        "outputId": "25415664-8d09-4633-a479-bd4fec594123"
      },
      "execution_count": 67,
      "outputs": [
        {
          "output_type": "execute_result",
          "data": {
            "text/plain": [
              "<seaborn.axisgrid.PairGrid at 0x7f19bd0149a0>"
            ]
          },
          "metadata": {},
          "execution_count": 67
        },
        {
          "output_type": "display_data",
          "data": {
            "text/plain": [
              "<Figure size 540x540 with 12 Axes>"
            ],
            "image/png": "[encoded data removed]"
          },
          "metadata": {
            "needs_background": "light"
          }
        }
      ]
    },
    {
      "cell_type": "markdown",
      "source": [
        "#### Based on the previous figure we notice that mental impairment shows a positive association with stressful life events and a negative association with SES, with no obvious evidence of non-linearities. Life events and SES show a rather weak positive relationship. Refer to the correlation matrix below."
      ],
      "metadata": {
        "id": "EmFMXrHev270"
      }
    },
    {
      "cell_type": "code",
      "source": [
        "# Compute the correlation matrix\n",
        "corr = MentalHealthDataFrame.corr()\n",
        "\n",
        "corr"
      ],
      "metadata": {
        "colab": {
          "base_uri": "https://localhost:8080/",
          "height": 143
        },
        "id": "3paUS5xhtV1N",
        "outputId": "c2e44b88-f525-4c9e-d12c-dcbab88b535e"
      },
      "execution_count": 68,
      "outputs": [
        {
          "output_type": "execute_result",
          "data": {
            "text/plain": [
              "              mentalImpair  lifeEvents       ses\n",
              "mentalImpair      1.000000    0.372221 -0.398568\n",
              "lifeEvents        0.372221    1.000000  0.123337\n",
              "ses              -0.398568    0.123337  1.000000"
            ],
            "text/html": [
              "\n",
              "  <div id=\"df-f77d1ebf-d854-40f8-a68e-4773cf1fc2ad\">\n",
              "    <div class=\"colab-df-container\">\n",
              "      <div>\n",
              "<style scoped>\n",
              "    .dataframe tbody tr th:only-of-type {\n",
              "        vertical-align: middle;\n",
              "    }\n",
              "\n",
              "    .dataframe tbody tr th {\n",
              "        vertical-align: top;\n",
              "    }\n",
              "\n",
              "    .dataframe thead th {\n",
              "        text-align: right;\n",
              "    }\n",
              "</style>\n",
              "<table border=\"1\" class=\"dataframe\">\n",
              "  <thead>\n",
              "    <tr style=\"text-align: right;\">\n",
              "      <th></th>\n",
              "      <th>mentalImpair</th>\n",
              "      <th>lifeEvents</th>\n",
              "      <th>ses</th>\n",
              "    </tr>\n",
              "  </thead>\n",
              "  <tbody>\n",
              "    <tr>\n",
              "      <th>mentalImpair</th>\n",
              "      <td>1.000000</td>\n",
              "      <td>0.372221</td>\n",
              "      <td>-0.398568</td>\n",
              "    </tr>\n",
              "    <tr>\n",
              "      <th>lifeEvents</th>\n",
              "      <td>0.372221</td>\n",
              "      <td>1.000000</td>\n",
              "      <td>0.123337</td>\n",
              "    </tr>\n",
              "    <tr>\n",
              "      <th>ses</th>\n",
              "      <td>-0.398568</td>\n",
              "      <td>0.123337</td>\n",
              "      <td>1.000000</td>\n",
              "    </tr>\n",
              "  </tbody>\n",
              "</table>\n",
              "</div>\n",
              "      <button class=\"colab-df-convert\" onclick=\"convertToInteractive('df-f77d1ebf-d854-40f8-a68e-4773cf1fc2ad')\"\n",
              "              title=\"Convert this dataframe to an interactive table.\"\n",
              "              style=\"display:none;\">\n",
              "        \n",
              "  <svg xmlns=\"http://www.w3.org/2000/svg\" height=\"24px\"viewBox=\"0 0 24 24\"\n",
              "       width=\"24px\">\n",
              "    <path d=\"M0 0h24v24H0V0z\" fill=\"none\"/>\n",
              "    <path d=\"M18.56 5.44l.94 2.06.94-2.06 2.06-.94-2.06-.94-.94-2.06-.94 2.06-2.06.94zm-11 1L8.5 8.5l.94-2.06 2.06-.94-2.06-.94L8.5 2.5l-.94 2.06-2.06.94zm10 10l.94 2.06.94-2.06 2.06-.94-2.06-.94-.94-2.06-.94 2.06-2.06.94z\"/><path d=\"M17.41 7.96l-1.37-1.37c-.4-.4-.92-.59-1.43-.59-.52 0-1.04.2-1.43.59L10.3 9.45l-7.72 7.72c-.78.78-.78 2.05 0 2.83L4 21.41c.39.39.9.59 1.41.59.51 0 1.02-.2 1.41-.59l7.78-7.78 2.81-2.81c.8-.78.8-2.07 0-2.86zM5.41 20L4 18.59l7.72-7.72 1.47 1.35L5.41 20z\"/>\n",
              "  </svg>\n",
              "      </button>\n",
              "      \n",
              "  <style>\n",
              "    .colab-df-container {\n",
              "      display:flex;\n",
              "      flex-wrap:wrap;\n",
              "      gap: 12px;\n",
              "    }\n",
              "\n",
              "    .colab-df-convert {\n",
              "      background-color: #E8F0FE;\n",
              "      border: none;\n",
              "      border-radius: 50%;\n",
              "      cursor: pointer;\n",
              "      display: none;\n",
              "      fill: #1967D2;\n",
              "      height: 32px;\n",
              "      padding: 0 0 0 0;\n",
              "      width: 32px;\n",
              "    }\n",
              "\n",
              "    .colab-df-convert:hover {\n",
              "      background-color: #E2EBFA;\n",
              "      box-shadow: 0px 1px 2px rgba(60, 64, 67, 0.3), 0px 1px 3px 1px rgba(60, 64, 67, 0.15);\n",
              "      fill: #174EA6;\n",
              "    }\n",
              "\n",
              "    [theme=dark] .colab-df-convert {\n",
              "      background-color: #3B4455;\n",
              "      fill: #D2E3FC;\n",
              "    }\n",
              "\n",
              "    [theme=dark] .colab-df-convert:hover {\n",
              "      background-color: #434B5C;\n",
              "      box-shadow: 0px 1px 3px 1px rgba(0, 0, 0, 0.15);\n",
              "      filter: drop-shadow(0px 1px 2px rgba(0, 0, 0, 0.3));\n",
              "      fill: #FFFFFF;\n",
              "    }\n",
              "  </style>\n",
              "\n",
              "      <script>\n",
              "        const buttonEl =\n",
              "          document.querySelector('#df-f77d1ebf-d854-40f8-a68e-4773cf1fc2ad button.colab-df-convert');\n",
              "        buttonEl.style.display =\n",
              "          google.colab.kernel.accessAllowed ? 'block' : 'none';\n",
              "\n",
              "        async function convertToInteractive(key) {\n",
              "          const element = document.querySelector('#df-f77d1ebf-d854-40f8-a68e-4773cf1fc2ad');\n",
              "          const dataTable =\n",
              "            await google.colab.kernel.invokeFunction('convertToInteractive',\n",
              "                                                     [key], {});\n",
              "          if (!dataTable) return;\n",
              "\n",
              "          const docLinkHtml = 'Like what you see? Visit the ' +\n",
              "            '<a target=\"_blank\" href=https://colab.research.google.com/notebooks/data_table.ipynb>data table notebook</a>'\n",
              "            + ' to learn more about interactive tables.';\n",
              "          element.innerHTML = '';\n",
              "          dataTable['output_type'] = 'display_data';\n",
              "          await google.colab.output.renderOutput(dataTable, element);\n",
              "          const docLink = document.createElement('div');\n",
              "          docLink.innerHTML = docLinkHtml;\n",
              "          element.appendChild(docLink);\n",
              "        }\n",
              "      </script>\n",
              "    </div>\n",
              "  </div>\n",
              "  "
            ]
          },
          "metadata": {},
          "execution_count": 68
        }
      ]
    },
    {
      "cell_type": "markdown",
      "source": [],
      "metadata": {
        "id": "YnSvfx2Kwt7V"
      }
    },
    {
      "cell_type": "markdown",
      "source": [
        "## 1. The model\n",
        "\n",
        "#### We will assume that the random variable mentaImpair follows a normal distribution with mean $µ_i$ and variance $\\sigma^2$, that is:\n",
        "\n",
        "$mentalImpair_i\\sim N(\\mu_i,\\sigma^2)$\n",
        "\n",
        "\n",
        "#### We further assume that the expected value $µ_i$ is a linear function of the two factors lifeEvents and ses, that is:\n",
        "\n",
        "$ \\mu_i=\\beta_1*lifeEvents+\\beta_2*ses $\n"
      ],
      "metadata": {
        "id": "Vrm_InJhxycx"
      }
    },
    {
      "cell_type": "markdown",
      "source": [
        "## 2. Estimation of the parameters\n",
        "#### In this case we rely on our old friend OLS to fit the model (in subsequent cases we will need to use MLE techniques)"
      ],
      "metadata": {
        "id": "lHs_3jsw0OhK"
      }
    },
    {
      "cell_type": "code",
      "source": [
        "reg = smf.ols(formula='mentalImpair ~ lifeEvents + ses ', data=MentalHealthDataFrame)\n",
        "\n",
        "# We fit the model\n",
        "results = reg.fit()"
      ],
      "metadata": {
        "id": "hxND1PfJtVyf"
      },
      "execution_count": 69,
      "outputs": []
    },
    {
      "cell_type": "code",
      "source": [
        "results.summary()"
      ],
      "metadata": {
        "colab": {
          "base_uri": "https://localhost:8080/",
          "height": 473
        },
        "id": "LGayHNVXtVwK",
        "outputId": "abbcfe08-b365-4b84-d601-49d7930adb76"
      },
      "execution_count": 70,
      "outputs": [
        {
          "output_type": "execute_result",
          "data": {
            "text/plain": [
              "<class 'statsmodels.iolib.summary.Summary'>\n",
              "\"\"\"\n",
              "                            OLS Regression Results                            \n",
              "==============================================================================\n",
              "Dep. Variable:           mentalImpair   R-squared:                       0.339\n",
              "Model:                            OLS   Adj. R-squared:                  0.303\n",
              "Method:                 Least Squares   F-statistic:                     9.495\n",
              "Date:                Tue, 17 Jan 2023   Prob (F-statistic):           0.000470\n",
              "Time:                        12:42:05   Log-Likelihood:                -115.86\n",
              "No. Observations:                  40   AIC:                             237.7\n",
              "Df Residuals:                      37   BIC:                             242.8\n",
              "Df Model:                           2                                         \n",
              "Covariance Type:            nonrobust                                         \n",
              "==============================================================================\n",
              "                 coef    std err          t      P>|t|      [0.025      0.975]\n",
              "------------------------------------------------------------------------------\n",
              "Intercept     28.2298      2.174     12.984      0.000      23.824      32.635\n",
              "lifeEvents     0.1033      0.032      3.177      0.003       0.037       0.169\n",
              "ses           -0.0975      0.029     -3.351      0.002      -0.156      -0.039\n",
              "==============================================================================\n",
              "Omnibus:                        0.098   Durbin-Watson:                   0.823\n",
              "Prob(Omnibus):                  0.952   Jarque-Bera (JB):                0.025\n",
              "Skew:                          -0.033   Prob(JB):                        0.987\n",
              "Kurtosis:                       2.897   Cond. No.                         230.\n",
              "==============================================================================\n",
              "\n",
              "Notes:\n",
              "[1] Standard Errors assume that the covariance matrix of the errors is correctly specified.\n",
              "\"\"\""
            ],
            "text/html": [
              "<table class=\"simpletable\">\n",
              "<caption>OLS Regression Results</caption>\n",
              "<tr>\n",
              "  <th>Dep. Variable:</th>      <td>mentalImpair</td>   <th>  R-squared:         </th> <td>   0.339</td>\n",
              "</tr>\n",
              "<tr>\n",
              "  <th>Model:</th>                   <td>OLS</td>       <th>  Adj. R-squared:    </th> <td>   0.303</td>\n",
              "</tr>\n",
              "<tr>\n",
              "  <th>Method:</th>             <td>Least Squares</td>  <th>  F-statistic:       </th> <td>   9.495</td>\n",
              "</tr>\n",
              "<tr>\n",
              "  <th>Date:</th>             <td>Tue, 17 Jan 2023</td> <th>  Prob (F-statistic):</th> <td>0.000470</td>\n",
              "</tr>\n",
              "<tr>\n",
              "  <th>Time:</th>                 <td>12:42:05</td>     <th>  Log-Likelihood:    </th> <td> -115.86</td>\n",
              "</tr>\n",
              "<tr>\n",
              "  <th>No. Observations:</th>      <td>    40</td>      <th>  AIC:               </th> <td>   237.7</td>\n",
              "</tr>\n",
              "<tr>\n",
              "  <th>Df Residuals:</th>          <td>    37</td>      <th>  BIC:               </th> <td>   242.8</td>\n",
              "</tr>\n",
              "<tr>\n",
              "  <th>Df Model:</th>              <td>     2</td>      <th>                     </th>     <td> </td>   \n",
              "</tr>\n",
              "<tr>\n",
              "  <th>Covariance Type:</th>      <td>nonrobust</td>    <th>                     </th>     <td> </td>   \n",
              "</tr>\n",
              "</table>\n",
              "<table class=\"simpletable\">\n",
              "<tr>\n",
              "       <td></td>         <th>coef</th>     <th>std err</th>      <th>t</th>      <th>P>|t|</th>  <th>[0.025</th>    <th>0.975]</th>  \n",
              "</tr>\n",
              "<tr>\n",
              "  <th>Intercept</th>  <td>   28.2298</td> <td>    2.174</td> <td>   12.984</td> <td> 0.000</td> <td>   23.824</td> <td>   32.635</td>\n",
              "</tr>\n",
              "<tr>\n",
              "  <th>lifeEvents</th> <td>    0.1033</td> <td>    0.032</td> <td>    3.177</td> <td> 0.003</td> <td>    0.037</td> <td>    0.169</td>\n",
              "</tr>\n",
              "<tr>\n",
              "  <th>ses</th>        <td>   -0.0975</td> <td>    0.029</td> <td>   -3.351</td> <td> 0.002</td> <td>   -0.156</td> <td>   -0.039</td>\n",
              "</tr>\n",
              "</table>\n",
              "<table class=\"simpletable\">\n",
              "<tr>\n",
              "  <th>Omnibus:</th>       <td> 0.098</td> <th>  Durbin-Watson:     </th> <td>   0.823</td>\n",
              "</tr>\n",
              "<tr>\n",
              "  <th>Prob(Omnibus):</th> <td> 0.952</td> <th>  Jarque-Bera (JB):  </th> <td>   0.025</td>\n",
              "</tr>\n",
              "<tr>\n",
              "  <th>Skew:</th>          <td>-0.033</td> <th>  Prob(JB):          </th> <td>   0.987</td>\n",
              "</tr>\n",
              "<tr>\n",
              "  <th>Kurtosis:</th>      <td> 2.897</td> <th>  Cond. No.          </th> <td>    230.</td>\n",
              "</tr>\n",
              "</table><br/><br/>Notes:<br/>[1] Standard Errors assume that the covariance matrix of the errors is correctly specified."
            ]
          },
          "metadata": {},
          "execution_count": 70
        }
      ]
    },
    {
      "cell_type": "markdown",
      "source": [
        "### We can try adding quadratic terms"
      ],
      "metadata": {
        "id": "l-RrhuvwXhFm"
      }
    },
    {
      "cell_type": "code",
      "source": [
        "reg2 = smf.ols(formula='mentalImpair ~ lifeEvents + I(lifeEvents**2)+ses ', data=MentalHealthDataFrame)\n",
        "\n",
        "# We fit the model\n",
        "results2 = reg2.fit()"
      ],
      "metadata": {
        "id": "opTR7tkrXlrj"
      },
      "execution_count": 71,
      "outputs": []
    },
    {
      "cell_type": "code",
      "source": [
        "results2.summary()"
      ],
      "metadata": {
        "colab": {
          "base_uri": "https://localhost:8080/",
          "height": 529
        },
        "id": "XDcz2GLwkyiE",
        "outputId": "20303f3c-e2c0-46c0-e1a3-ef7bce06f13c"
      },
      "execution_count": 72,
      "outputs": [
        {
          "output_type": "execute_result",
          "data": {
            "text/plain": [
              "<class 'statsmodels.iolib.summary.Summary'>\n",
              "\"\"\"\n",
              "                            OLS Regression Results                            \n",
              "==============================================================================\n",
              "Dep. Variable:           mentalImpair   R-squared:                       0.340\n",
              "Model:                            OLS   Adj. R-squared:                  0.284\n",
              "Method:                 Least Squares   F-statistic:                     6.169\n",
              "Date:                Tue, 17 Jan 2023   Prob (F-statistic):            0.00171\n",
              "Time:                        12:42:05   Log-Likelihood:                -115.85\n",
              "No. Observations:                  40   AIC:                             239.7\n",
              "Df Residuals:                      36   BIC:                             246.5\n",
              "Df Model:                           3                                         \n",
              "Covariance Type:            nonrobust                                         \n",
              "======================================================================================\n",
              "                         coef    std err          t      P>|t|      [0.025      0.975]\n",
              "--------------------------------------------------------------------------------------\n",
              "Intercept             27.9121      3.133      8.908      0.000      21.557      34.267\n",
              "lifeEvents             0.1186      0.112      1.055      0.299      -0.109       0.347\n",
              "I(lifeEvents ** 2)    -0.0002      0.001     -0.143      0.887      -0.002       0.002\n",
              "ses                   -0.0972      0.030     -3.288      0.002      -0.157      -0.037\n",
              "==============================================================================\n",
              "Omnibus:                        0.124   Durbin-Watson:                   0.822\n",
              "Prob(Omnibus):                  0.940   Jarque-Bera (JB):                0.010\n",
              "Skew:                          -0.015   Prob(JB):                        0.995\n",
              "Kurtosis:                       2.929   Cond. No.                     1.46e+04\n",
              "==============================================================================\n",
              "\n",
              "Notes:\n",
              "[1] Standard Errors assume that the covariance matrix of the errors is correctly specified.\n",
              "[2] The condition number is large, 1.46e+04. This might indicate that there are\n",
              "strong multicollinearity or other numerical problems.\n",
              "\"\"\""
            ],
            "text/html": [
              "<table class=\"simpletable\">\n",
              "<caption>OLS Regression Results</caption>\n",
              "<tr>\n",
              "  <th>Dep. Variable:</th>      <td>mentalImpair</td>   <th>  R-squared:         </th> <td>   0.340</td>\n",
              "</tr>\n",
              "<tr>\n",
              "  <th>Model:</th>                   <td>OLS</td>       <th>  Adj. R-squared:    </th> <td>   0.284</td>\n",
              "</tr>\n",
              "<tr>\n",
              "  <th>Method:</th>             <td>Least Squares</td>  <th>  F-statistic:       </th> <td>   6.169</td>\n",
              "</tr>\n",
              "<tr>\n",
              "  <th>Date:</th>             <td>Tue, 17 Jan 2023</td> <th>  Prob (F-statistic):</th>  <td>0.00171</td>\n",
              "</tr>\n",
              "<tr>\n",
              "  <th>Time:</th>                 <td>12:42:05</td>     <th>  Log-Likelihood:    </th> <td> -115.85</td>\n",
              "</tr>\n",
              "<tr>\n",
              "  <th>No. Observations:</th>      <td>    40</td>      <th>  AIC:               </th> <td>   239.7</td>\n",
              "</tr>\n",
              "<tr>\n",
              "  <th>Df Residuals:</th>          <td>    36</td>      <th>  BIC:               </th> <td>   246.5</td>\n",
              "</tr>\n",
              "<tr>\n",
              "  <th>Df Model:</th>              <td>     3</td>      <th>                     </th>     <td> </td>   \n",
              "</tr>\n",
              "<tr>\n",
              "  <th>Covariance Type:</th>      <td>nonrobust</td>    <th>                     </th>     <td> </td>   \n",
              "</tr>\n",
              "</table>\n",
              "<table class=\"simpletable\">\n",
              "<tr>\n",
              "           <td></td>             <th>coef</th>     <th>std err</th>      <th>t</th>      <th>P>|t|</th>  <th>[0.025</th>    <th>0.975]</th>  \n",
              "</tr>\n",
              "<tr>\n",
              "  <th>Intercept</th>          <td>   27.9121</td> <td>    3.133</td> <td>    8.908</td> <td> 0.000</td> <td>   21.557</td> <td>   34.267</td>\n",
              "</tr>\n",
              "<tr>\n",
              "  <th>lifeEvents</th>         <td>    0.1186</td> <td>    0.112</td> <td>    1.055</td> <td> 0.299</td> <td>   -0.109</td> <td>    0.347</td>\n",
              "</tr>\n",
              "<tr>\n",
              "  <th>I(lifeEvents ** 2)</th> <td>   -0.0002</td> <td>    0.001</td> <td>   -0.143</td> <td> 0.887</td> <td>   -0.002</td> <td>    0.002</td>\n",
              "</tr>\n",
              "<tr>\n",
              "  <th>ses</th>                <td>   -0.0972</td> <td>    0.030</td> <td>   -3.288</td> <td> 0.002</td> <td>   -0.157</td> <td>   -0.037</td>\n",
              "</tr>\n",
              "</table>\n",
              "<table class=\"simpletable\">\n",
              "<tr>\n",
              "  <th>Omnibus:</th>       <td> 0.124</td> <th>  Durbin-Watson:     </th> <td>   0.822</td>\n",
              "</tr>\n",
              "<tr>\n",
              "  <th>Prob(Omnibus):</th> <td> 0.940</td> <th>  Jarque-Bera (JB):  </th> <td>   0.010</td>\n",
              "</tr>\n",
              "<tr>\n",
              "  <th>Skew:</th>          <td>-0.015</td> <th>  Prob(JB):          </th> <td>   0.995</td>\n",
              "</tr>\n",
              "<tr>\n",
              "  <th>Kurtosis:</th>      <td> 2.929</td> <th>  Cond. No.          </th> <td>1.46e+04</td>\n",
              "</tr>\n",
              "</table><br/><br/>Notes:<br/>[1] Standard Errors assume that the covariance matrix of the errors is correctly specified.<br/>[2] The condition number is large, 1.46e+04. This might indicate that there are<br/>strong multicollinearity or other numerical problems."
            ]
          },
          "metadata": {},
          "execution_count": 72
        }
      ]
    },
    {
      "cell_type": "code",
      "source": [
        "reg3 = smf.ols(formula='mentalImpair ~ lifeEvents + I(lifeEvents**2)+ses+ I(ses**2) ', data=MentalHealthDataFrame)\n",
        "\n",
        "# We fit the model\n",
        "results3 = reg3.fit()"
      ],
      "metadata": {
        "id": "T2B9Nv0plADI"
      },
      "execution_count": 73,
      "outputs": []
    },
    {
      "cell_type": "code",
      "source": [
        "results3.summary()"
      ],
      "metadata": {
        "colab": {
          "base_uri": "https://localhost:8080/",
          "height": 550
        },
        "id": "HgFEyiG_lS7O",
        "outputId": "3a5cd755-3d9e-45c1-b694-0d6a0b5ceca1"
      },
      "execution_count": 74,
      "outputs": [
        {
          "output_type": "execute_result",
          "data": {
            "text/plain": [
              "<class 'statsmodels.iolib.summary.Summary'>\n",
              "\"\"\"\n",
              "                            OLS Regression Results                            \n",
              "==============================================================================\n",
              "Dep. Variable:           mentalImpair   R-squared:                       0.340\n",
              "Model:                            OLS   Adj. R-squared:                  0.264\n",
              "Method:                 Least Squares   F-statistic:                     4.502\n",
              "Date:                Tue, 17 Jan 2023   Prob (F-statistic):            0.00486\n",
              "Time:                        12:42:05   Log-Likelihood:                -115.84\n",
              "No. Observations:                  40   AIC:                             241.7\n",
              "Df Residuals:                      35   BIC:                             250.1\n",
              "Df Model:                           4                                         \n",
              "Covariance Type:            nonrobust                                         \n",
              "======================================================================================\n",
              "                         coef    std err          t      P>|t|      [0.025      0.975]\n",
              "--------------------------------------------------------------------------------------\n",
              "Intercept             28.1443      3.873      7.266      0.000      20.281      36.008\n",
              "lifeEvents             0.1195      0.114      1.045      0.303      -0.113       0.352\n",
              "I(lifeEvents ** 2)    -0.0002      0.001     -0.148      0.883      -0.002       0.002\n",
              "ses                   -0.1093      0.120     -0.912      0.368      -0.353       0.134\n",
              "I(ses ** 2)            0.0001      0.001      0.105      0.917      -0.002       0.002\n",
              "==============================================================================\n",
              "Omnibus:                        0.116   Durbin-Watson:                   0.817\n",
              "Prob(Omnibus):                  0.944   Jarque-Bera (JB):                0.016\n",
              "Skew:                          -0.025   Prob(JB):                        0.992\n",
              "Kurtosis:                       2.918   Cond. No.                     2.79e+04\n",
              "==============================================================================\n",
              "\n",
              "Notes:\n",
              "[1] Standard Errors assume that the covariance matrix of the errors is correctly specified.\n",
              "[2] The condition number is large, 2.79e+04. This might indicate that there are\n",
              "strong multicollinearity or other numerical problems.\n",
              "\"\"\""
            ],
            "text/html": [
              "<table class=\"simpletable\">\n",
              "<caption>OLS Regression Results</caption>\n",
              "<tr>\n",
              "  <th>Dep. Variable:</th>      <td>mentalImpair</td>   <th>  R-squared:         </th> <td>   0.340</td>\n",
              "</tr>\n",
              "<tr>\n",
              "  <th>Model:</th>                   <td>OLS</td>       <th>  Adj. R-squared:    </th> <td>   0.264</td>\n",
              "</tr>\n",
              "<tr>\n",
              "  <th>Method:</th>             <td>Least Squares</td>  <th>  F-statistic:       </th> <td>   4.502</td>\n",
              "</tr>\n",
              "<tr>\n",
              "  <th>Date:</th>             <td>Tue, 17 Jan 2023</td> <th>  Prob (F-statistic):</th>  <td>0.00486</td>\n",
              "</tr>\n",
              "<tr>\n",
              "  <th>Time:</th>                 <td>12:42:05</td>     <th>  Log-Likelihood:    </th> <td> -115.84</td>\n",
              "</tr>\n",
              "<tr>\n",
              "  <th>No. Observations:</th>      <td>    40</td>      <th>  AIC:               </th> <td>   241.7</td>\n",
              "</tr>\n",
              "<tr>\n",
              "  <th>Df Residuals:</th>          <td>    35</td>      <th>  BIC:               </th> <td>   250.1</td>\n",
              "</tr>\n",
              "<tr>\n",
              "  <th>Df Model:</th>              <td>     4</td>      <th>                     </th>     <td> </td>   \n",
              "</tr>\n",
              "<tr>\n",
              "  <th>Covariance Type:</th>      <td>nonrobust</td>    <th>                     </th>     <td> </td>   \n",
              "</tr>\n",
              "</table>\n",
              "<table class=\"simpletable\">\n",
              "<tr>\n",
              "           <td></td>             <th>coef</th>     <th>std err</th>      <th>t</th>      <th>P>|t|</th>  <th>[0.025</th>    <th>0.975]</th>  \n",
              "</tr>\n",
              "<tr>\n",
              "  <th>Intercept</th>          <td>   28.1443</td> <td>    3.873</td> <td>    7.266</td> <td> 0.000</td> <td>   20.281</td> <td>   36.008</td>\n",
              "</tr>\n",
              "<tr>\n",
              "  <th>lifeEvents</th>         <td>    0.1195</td> <td>    0.114</td> <td>    1.045</td> <td> 0.303</td> <td>   -0.113</td> <td>    0.352</td>\n",
              "</tr>\n",
              "<tr>\n",
              "  <th>I(lifeEvents ** 2)</th> <td>   -0.0002</td> <td>    0.001</td> <td>   -0.148</td> <td> 0.883</td> <td>   -0.002</td> <td>    0.002</td>\n",
              "</tr>\n",
              "<tr>\n",
              "  <th>ses</th>                <td>   -0.1093</td> <td>    0.120</td> <td>   -0.912</td> <td> 0.368</td> <td>   -0.353</td> <td>    0.134</td>\n",
              "</tr>\n",
              "<tr>\n",
              "  <th>I(ses ** 2)</th>        <td>    0.0001</td> <td>    0.001</td> <td>    0.105</td> <td> 0.917</td> <td>   -0.002</td> <td>    0.002</td>\n",
              "</tr>\n",
              "</table>\n",
              "<table class=\"simpletable\">\n",
              "<tr>\n",
              "  <th>Omnibus:</th>       <td> 0.116</td> <th>  Durbin-Watson:     </th> <td>   0.817</td>\n",
              "</tr>\n",
              "<tr>\n",
              "  <th>Prob(Omnibus):</th> <td> 0.944</td> <th>  Jarque-Bera (JB):  </th> <td>   0.016</td>\n",
              "</tr>\n",
              "<tr>\n",
              "  <th>Skew:</th>          <td>-0.025</td> <th>  Prob(JB):          </th> <td>   0.992</td>\n",
              "</tr>\n",
              "<tr>\n",
              "  <th>Kurtosis:</th>      <td> 2.918</td> <th>  Cond. No.          </th> <td>2.79e+04</td>\n",
              "</tr>\n",
              "</table><br/><br/>Notes:<br/>[1] Standard Errors assume that the covariance matrix of the errors is correctly specified.<br/>[2] The condition number is large, 2.79e+04. This might indicate that there are<br/>strong multicollinearity or other numerical problems."
            ]
          },
          "metadata": {},
          "execution_count": 74
        }
      ]
    },
    {
      "cell_type": "markdown",
      "source": [
        "#### The quadratic terms are not statistically significant, thus we opt for the first alternative with no quadratic elemennts. \n",
        "\n"
      ],
      "metadata": {
        "id": "I3bUkYdNXhDP"
      }
    },
    {
      "cell_type": "code",
      "source": [
        "reg = smf.ols(formula='mentalImpair ~ lifeEvents + ses ', data=MentalHealthDataFrame)\n",
        "\n",
        "# We fit the model\n",
        "results = reg.fit()\n",
        "\n",
        "results.summary()"
      ],
      "metadata": {
        "colab": {
          "base_uri": "https://localhost:8080/",
          "height": 473
        },
        "id": "1R7l3wCloXya",
        "outputId": "3d610e22-c7f5-4d33-da11-137e42ffbf6f"
      },
      "execution_count": 75,
      "outputs": [
        {
          "output_type": "execute_result",
          "data": {
            "text/plain": [
              "<class 'statsmodels.iolib.summary.Summary'>\n",
              "\"\"\"\n",
              "                            OLS Regression Results                            \n",
              "==============================================================================\n",
              "Dep. Variable:           mentalImpair   R-squared:                       0.339\n",
              "Model:                            OLS   Adj. R-squared:                  0.303\n",
              "Method:                 Least Squares   F-statistic:                     9.495\n",
              "Date:                Tue, 17 Jan 2023   Prob (F-statistic):           0.000470\n",
              "Time:                        12:42:05   Log-Likelihood:                -115.86\n",
              "No. Observations:                  40   AIC:                             237.7\n",
              "Df Residuals:                      37   BIC:                             242.8\n",
              "Df Model:                           2                                         \n",
              "Covariance Type:            nonrobust                                         \n",
              "==============================================================================\n",
              "                 coef    std err          t      P>|t|      [0.025      0.975]\n",
              "------------------------------------------------------------------------------\n",
              "Intercept     28.2298      2.174     12.984      0.000      23.824      32.635\n",
              "lifeEvents     0.1033      0.032      3.177      0.003       0.037       0.169\n",
              "ses           -0.0975      0.029     -3.351      0.002      -0.156      -0.039\n",
              "==============================================================================\n",
              "Omnibus:                        0.098   Durbin-Watson:                   0.823\n",
              "Prob(Omnibus):                  0.952   Jarque-Bera (JB):                0.025\n",
              "Skew:                          -0.033   Prob(JB):                        0.987\n",
              "Kurtosis:                       2.897   Cond. No.                         230.\n",
              "==============================================================================\n",
              "\n",
              "Notes:\n",
              "[1] Standard Errors assume that the covariance matrix of the errors is correctly specified.\n",
              "\"\"\""
            ],
            "text/html": [
              "<table class=\"simpletable\">\n",
              "<caption>OLS Regression Results</caption>\n",
              "<tr>\n",
              "  <th>Dep. Variable:</th>      <td>mentalImpair</td>   <th>  R-squared:         </th> <td>   0.339</td>\n",
              "</tr>\n",
              "<tr>\n",
              "  <th>Model:</th>                   <td>OLS</td>       <th>  Adj. R-squared:    </th> <td>   0.303</td>\n",
              "</tr>\n",
              "<tr>\n",
              "  <th>Method:</th>             <td>Least Squares</td>  <th>  F-statistic:       </th> <td>   9.495</td>\n",
              "</tr>\n",
              "<tr>\n",
              "  <th>Date:</th>             <td>Tue, 17 Jan 2023</td> <th>  Prob (F-statistic):</th> <td>0.000470</td>\n",
              "</tr>\n",
              "<tr>\n",
              "  <th>Time:</th>                 <td>12:42:05</td>     <th>  Log-Likelihood:    </th> <td> -115.86</td>\n",
              "</tr>\n",
              "<tr>\n",
              "  <th>No. Observations:</th>      <td>    40</td>      <th>  AIC:               </th> <td>   237.7</td>\n",
              "</tr>\n",
              "<tr>\n",
              "  <th>Df Residuals:</th>          <td>    37</td>      <th>  BIC:               </th> <td>   242.8</td>\n",
              "</tr>\n",
              "<tr>\n",
              "  <th>Df Model:</th>              <td>     2</td>      <th>                     </th>     <td> </td>   \n",
              "</tr>\n",
              "<tr>\n",
              "  <th>Covariance Type:</th>      <td>nonrobust</td>    <th>                     </th>     <td> </td>   \n",
              "</tr>\n",
              "</table>\n",
              "<table class=\"simpletable\">\n",
              "<tr>\n",
              "       <td></td>         <th>coef</th>     <th>std err</th>      <th>t</th>      <th>P>|t|</th>  <th>[0.025</th>    <th>0.975]</th>  \n",
              "</tr>\n",
              "<tr>\n",
              "  <th>Intercept</th>  <td>   28.2298</td> <td>    2.174</td> <td>   12.984</td> <td> 0.000</td> <td>   23.824</td> <td>   32.635</td>\n",
              "</tr>\n",
              "<tr>\n",
              "  <th>lifeEvents</th> <td>    0.1033</td> <td>    0.032</td> <td>    3.177</td> <td> 0.003</td> <td>    0.037</td> <td>    0.169</td>\n",
              "</tr>\n",
              "<tr>\n",
              "  <th>ses</th>        <td>   -0.0975</td> <td>    0.029</td> <td>   -3.351</td> <td> 0.002</td> <td>   -0.156</td> <td>   -0.039</td>\n",
              "</tr>\n",
              "</table>\n",
              "<table class=\"simpletable\">\n",
              "<tr>\n",
              "  <th>Omnibus:</th>       <td> 0.098</td> <th>  Durbin-Watson:     </th> <td>   0.823</td>\n",
              "</tr>\n",
              "<tr>\n",
              "  <th>Prob(Omnibus):</th> <td> 0.952</td> <th>  Jarque-Bera (JB):  </th> <td>   0.025</td>\n",
              "</tr>\n",
              "<tr>\n",
              "  <th>Skew:</th>          <td>-0.033</td> <th>  Prob(JB):          </th> <td>   0.987</td>\n",
              "</tr>\n",
              "<tr>\n",
              "  <th>Kurtosis:</th>      <td> 2.897</td> <th>  Cond. No.          </th> <td>    230.</td>\n",
              "</tr>\n",
              "</table><br/><br/>Notes:<br/>[1] Standard Errors assume that the covariance matrix of the errors is correctly specified."
            ]
          },
          "metadata": {},
          "execution_count": 75
        }
      ]
    },
    {
      "cell_type": "markdown",
      "source": [
        "#### The final model is therefore:\n",
        "\n",
        "\n",
        "$ \\mu_i=28.23+0.1033*lifeEvents-0.0975*ses $"
      ],
      "metadata": {
        "id": "Qdwr3ZSron-l"
      }
    },
    {
      "cell_type": "markdown",
      "source": [
        "## 3. Model interpretation:\n",
        "\n",
        "#### We find highly significant net effects of both SES and life events, as evidenced by t-statistics of -3.35 (p-value:0.002) and 3.17 (p-value:0.003) respectively. \n",
        "\n",
        "#### The mean of mentalImpair decreases 0.0975 points for each additional point of improvement in ses (socio economic status).\n",
        "\n",
        "#### The mean of mentalImpair increases  0.1033 points for each additional point of lifeEvents (traumatic episodes).\n"
      ],
      "metadata": {
        "id": "3Qq7wTPG2LOM"
      }
    },
    {
      "cell_type": "markdown",
      "source": [
        "### Based on the previous we find a positive impact of socio economic status on mental health.\n",
        "\n",
        "### A note of caution however: beware of establishing strong causality between socio economic status and mental health. It might be the case that lower levels of mental health drive socio economic status. \n",
        "\n",
        "### Establishing strong causality is hard, in this case we would need a larger dataset, ideally a panel datas observing the evolution of subjects accross time. Another alternative to infer causation is through randomized controlled trials."
      ],
      "metadata": {
        "id": "1MUoF8r2r7Mu"
      }
    },
    {
      "cell_type": "code",
      "source": [],
      "metadata": {
        "id": "g0EPvF6prUQ2"
      },
      "execution_count": 75,
      "outputs": []
    },
    {
      "cell_type": "markdown",
      "source": [
        "## 4. Regression Diagnostics"
      ],
      "metadata": {
        "id": "wF01x2hx2Ife"
      }
    },
    {
      "cell_type": "code",
      "source": [
        "fig = plt.figure(figsize=(8, 6))\n",
        "sm.graphics.plot_regress_exog(results, 'lifeEvents', fig=fig)\n",
        "plt.show()"
      ],
      "metadata": {
        "colab": {
          "base_uri": "https://localhost:8080/",
          "height": 443
        },
        "id": "L6SYoXeBtVti",
        "outputId": "86644a50-6850-4af0-8550-73a5b435084e"
      },
      "execution_count": 76,
      "outputs": [
        {
          "output_type": "display_data",
          "data": {
            "text/plain": [
              "<Figure size 576x432 with 4 Axes>"
            ],
            "image/png": "[encoded data removed]"
          },
          "metadata": {
            "needs_background": "light"
          }
        }
      ]
    },
    {
      "cell_type": "markdown",
      "source": [
        "#### From the top right figure, We observe a non-constant spread of the residuals: a tendency for more dispersed residuals for large $y_i$. It would be advisable to tranform the response and the independent factors  (e.g taking logs or standarization)."
      ],
      "metadata": {
        "id": "LfL_eE2M9i75"
      }
    },
    {
      "cell_type": "code",
      "source": [
        "fig = plt.figure(figsize=(8, 6))\n",
        "sm.graphics.plot_regress_exog(results, 'ses', fig=fig)\n",
        "plt.show()"
      ],
      "metadata": {
        "colab": {
          "base_uri": "https://localhost:8080/",
          "height": 443
        },
        "id": "YBGJLRDgtVrN",
        "outputId": "6040f8bc-07a0-4ac6-b144-88e3070b2cbb"
      },
      "execution_count": 77,
      "outputs": [
        {
          "output_type": "display_data",
          "data": {
            "text/plain": [
              "<Figure size 576x432 with 4 Axes>"
            ],
            "image/png": "[encoded data removed]"
          },
          "metadata": {
            "needs_background": "light"
          }
        }
      ]
    },
    {
      "cell_type": "code",
      "source": [
        "residuals = results.resid # residuals\n",
        "fig = sm.qqplot(residuals,stats.t, fit=True, line=\"45\")\n",
        "plt.show()"
      ],
      "metadata": {
        "colab": {
          "base_uri": "https://localhost:8080/",
          "height": 279
        },
        "id": "au3Z2DV2tVo5",
        "outputId": "309fe4d5-4ed6-408d-8de4-4f4938051df4"
      },
      "execution_count": 78,
      "outputs": [
        {
          "output_type": "display_data",
          "data": {
            "text/plain": [
              "<Figure size 432x288 with 1 Axes>"
            ],
            "image/png": "[encoded data removed]"
          },
          "metadata": {
            "needs_background": "light"
          }
        }
      ]
    },
    {
      "cell_type": "markdown",
      "source": [
        "#### Based on the previous Q-Q plot we conclude that we have no evidence against the assumption of normally distributed residuals."
      ],
      "metadata": {
        "id": "u_eoFF4MAx22"
      }
    },
    {
      "cell_type": "markdown",
      "source": [
        "#### We can further test the normality assumption by way of the Jarque-Bera test. The Jarque-Bera test statistic tests the null that the data is normally distributed against an alternative that the data follow some other distribution. \n",
        "\n",
        "#### The Jarque-Bera test statistic is always positive, and if it is not close to zero, it shows that the sample data do not have a normal distribution. Based on the results below (J-B test: 0.025) we find no evidence against the normality assumption of residuals."
      ],
      "metadata": {
        "id": "GbSsJweaCOLN"
      }
    },
    {
      "cell_type": "code",
      "source": [
        "from statsmodels.compat import lzip\n",
        "import statsmodels.stats.api as sms\n",
        "name = [\"Jarque-Bera\", \"Chi^2 two-tail prob.\", \"Skew\", \"Kurtosis\"]\n",
        "test = sms.jarque_bera(results.resid)\n",
        "lzip(name, test)"
      ],
      "metadata": {
        "colab": {
          "base_uri": "https://localhost:8080/"
        },
        "id": "3m5jhjoK__xj",
        "outputId": "7dc48a8c-c100-4367-a75f-1009e57a6ac1"
      },
      "execution_count": 79,
      "outputs": [
        {
          "output_type": "execute_result",
          "data": {
            "text/plain": [
              "[('Jarque-Bera', 0.02520294422725863),\n",
              " ('Chi^2 two-tail prob.', 0.9874775939712618),\n",
              " ('Skew', -0.03338396765324425),\n",
              " ('Kurtosis', 2.89673427794634)]"
            ]
          },
          "metadata": {},
          "execution_count": 79
        }
      ]
    },
    {
      "cell_type": "code",
      "source": [],
      "metadata": {
        "id": "EINbfcEmBjub"
      },
      "execution_count": 79,
      "outputs": []
    }
  ]
}